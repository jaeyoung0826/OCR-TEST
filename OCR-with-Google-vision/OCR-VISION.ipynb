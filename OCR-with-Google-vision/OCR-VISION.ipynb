{
 "cells": [
  {
   "cell_type": "code",
   "execution_count": 111,
   "metadata": {},
   "outputs": [
    {
     "name": "stdout",
     "output_type": "stream",
     "text": [
      "Found 1 face\n",
      "Writing to file ./학생증2.jpg\n",
      "[(796, 557), (909, 557), (909, 688), (796, 688)]\n"
     ]
    },
    {
     "data": {
      "image/png": "[encoded data removed]",
      "text/plain": [
       "<PIL.Image.Image image mode=RGB size=113x131 at 0x2523A4BDEB0>"
      ]
     },
     "metadata": {},
     "output_type": "display_data"
    }
   ],
   "source": [
    "from google.cloud import vision\n",
    "from PIL import Image, ImageDraw\n",
    "from IPython.display import display\n",
    "import io\n",
    "import os\n",
    "client = vision.ImageAnnotatorClient()\n",
    "\n",
    "def detect_face(face_file, max_results=4):\n",
    "    \"\"\"Uses the Vision API to detect faces in the given file.\n",
    "\n",
    "    Args:\n",
    "        face_file: A file-like object containing an image with faces.\n",
    "\n",
    "    Returns:\n",
    "        An array of Face objects with information about the picture.\n",
    "    \"\"\"\n",
    "    client = vision.ImageAnnotatorClient()\n",
    "\n",
    "    content = face_file.read()\n",
    "    image = vision.Image(content=content)\n",
    "    return client.face_detection(\n",
    "        image=image, max_results=max_results).face_annotations\n",
    "\n",
    "def highlight_faces(image, faces, output_filename):\n",
    "    \"\"\"Draws a polygon around the faces, then saves to output_filename.\n",
    "\n",
    "    Args:\n",
    "      image: a file containing the image with the faces.\n",
    "      faces: a list of faces found in the file. This should be in the format\n",
    "          returned by the Vision API.\n",
    "      output_filename: the name of the image file to be created, where the\n",
    "          faces have polygons drawn around them.\n",
    "    \"\"\"\n",
    "    im = Image.open(image)\n",
    "    draw = ImageDraw.Draw(im)\n",
    "    # Sepecify the font-family and the font-size\n",
    "    for face in faces:\n",
    "        box = [(vertex.x, vertex.y)\n",
    "               for vertex in face.bounding_poly.vertices] #detect_face 에서 구한 face의 좌표값을 box에 설정\n",
    "        print(box)\n",
    "        draw.line(box + [box[0]], width=5, fill='#00ff00')\n",
    "        # Place the confidence value/score of the detected faces above the\n",
    "        # detection box in the output image\n",
    "        draw.text(((face.bounding_poly.vertices)[0].x,\n",
    "                   (face.bounding_poly.vertices)[0].y - 30),\n",
    "                  str(format(face.detection_confidence, '.3f')) + '%',\n",
    "                  fill='#FF0000')\n",
    "    cropping_area = (box[0][0],box[0][1],box[2][0],box[2][1]) \n",
    "    # 좌하단(box[0]) ,우하단(box[1]), 우상단(box[2]), 우하단(box[3]) ex. [(465, 307), (741, 307), (741, 628), (465, 628)]\n",
    "    # 좌하단 의 x,y 좌표와  우상단의 x,y좌표로도 사각영역을 만들수 있으로 필요한 데이터는 box[0][0],box[0][1],box[2][0],box[2][1]\n",
    "                                                                 \n",
    "    cropped_img = im.crop(cropping_area)\n",
    "    display(cropped_img)\n",
    "    im.save(output_filename)\n",
    "\n",
    "def main(input_filename, output_filename, max_results):\n",
    "    with open(input_filename, 'rb') as image:\n",
    "        faces = detect_face(image, max_results)\n",
    "        print('Found {} face{}'.format(\n",
    "            len(faces), '' if len(faces) == 1 else 's'))\n",
    "\n",
    "        print('Writing to file {}'.format(output_filename))\n",
    "        # Reset the file pointer, so we can read the file again\n",
    "        image.seek(0)\n",
    "        highlight_faces(image, faces, output_filename)\n",
    "\n",
    "main(\"./학생증.jpg\",\"./학생증2.jpg\",3)"
   ]
  },
  {
   "cell_type": "code",
   "execution_count": 56,
   "metadata": {},
   "outputs": [
    {
     "data": {
      "text/plain": [
       "'../학생증.jpg'"
      ]
     },
     "metadata": {},
     "output_type": "display_data"
    }
   ],
   "source": [
    "import io\n",
    "import os\n",
    "from IPython.display import display\n",
    "from PIL import Image, ImageFont, ImageDraw\n",
    "# Imports the Google Cloud client library\n",
    "from google.cloud import vision\n",
    "def detect_text(path):\n",
    "    \"\"\"Detects text in the file.\"\"\"\n",
    "    client = vision.ImageAnnotatorClient()\n",
    "\n",
    "    with io.open(path, 'rb') as image_file:\n",
    "        content = image_file.read()\n",
    "\n",
    "    image = vision.Image(content=content)\n",
    "\n",
    "    response = client.text_detection(image=image)\n",
    "    texts = response.text_annotations\n",
    "    print('Texts:')\n",
    "\n",
    "    for text in texts:\n",
    "        print('\\n\"{}\"'.format(text.description))\n",
    "\n",
    "        vertices = (['({},{})'.format(vertex.x, vertex.y)\n",
    "                    for vertex in text.bounding_poly.vertices])\n",
    "\n",
    "        print('bounds: {}'.format(','.join(vertices)))\n",
    "\n",
    "    if response.error.message:\n",
    "        raise Exception(\n",
    "            '{}\\nFor more info on error messages, check: '\n",
    "            'https://cloud.google.com/apis/design/errors'.format(\n",
    "                response.error.message))\n",
    "#MAIN\n",
    "file_name=\n",
    "img=Image.open(file_name)\n",
    "display(img)\n",
    "detect_text(\"../학생증.jpg\")"
   ]
  },
  {
   "cell_type": "code",
   "execution_count": 15,
   "metadata": {},
   "outputs": [
    {
     "name": "stdout",
     "output_type": "stream",
     "text": [
      "Requirement already satisfied: pip in c:\\users\\jaylee\\anaconda3\\lib\\site-packages (21.1.2)\n",
      "Collecting pip\n",
      "  Downloading pip-21.1.3-py3-none-any.whl (1.5 MB)\n",
      "Installing collected packages: pip\n",
      "  Attempting uninstall: pip\n",
      "    Found existing installation: pip 21.1.2\n",
      "    Uninstalling pip-21.1.2:\n",
      "      Successfully uninstalled pip-21.1.2\n",
      "Successfully installed pip-21.1.3\n",
      "Requirement already satisfied: google-api-python-client in c:\\users\\jaylee\\anaconda3\\lib\\site-packages (2.12.0)\n",
      "Requirement already satisfied: httplib2<1dev,>=0.15.0 in c:\\users\\jaylee\\anaconda3\\lib\\site-packages (from google-api-python-client) (0.19.1)\n",
      "Requirement already satisfied: google-auth-httplib2>=0.1.0 in c:\\users\\jaylee\\anaconda3\\lib\\site-packages (from google-api-python-client) (0.1.0)\n",
      "Requirement already satisfied: uritemplate<4dev,>=3.0.0 in c:\\users\\jaylee\\anaconda3\\lib\\site-packages (from google-api-python-client) (3.0.1)\n",
      "Requirement already satisfied: six<2dev,>=1.13.0 in c:\\users\\jaylee\\anaconda3\\lib\\site-packages (from google-api-python-client) (1.15.0)\n",
      "Requirement already satisfied: google-auth<2dev,>=1.16.0 in c:\\users\\jaylee\\anaconda3\\lib\\site-packages (from google-api-python-client) (1.32.1)\n",
      "Requirement already satisfied: google-api-core<2dev,>=1.21.0 in c:\\users\\jaylee\\anaconda3\\lib\\site-packages (from google-api-python-client) (1.31.0)\n",
      "Requirement already satisfied: setuptools>=40.3.0 in c:\\users\\jaylee\\anaconda3\\lib\\site-packages (from google-api-core<2dev,>=1.21.0->google-api-python-client) (50.3.1.post20201107)\n",
      "Requirement already satisfied: packaging>=14.3 in c:\\users\\jaylee\\anaconda3\\lib\\site-packages (from google-api-core<2dev,>=1.21.0->google-api-python-client) (20.4)\n",
      "Requirement already satisfied: pytz in c:\\users\\jaylee\\anaconda3\\lib\\site-packages (from google-api-core<2dev,>=1.21.0->google-api-python-client) (2020.1)\n",
      "Requirement already satisfied: requests<3.0.0dev,>=2.18.0 in c:\\users\\jaylee\\anaconda3\\lib\\site-packages (from google-api-core<2dev,>=1.21.0->google-api-python-client) (2.24.0)\n",
      "Requirement already satisfied: protobuf>=3.12.0 in c:\\users\\jaylee\\anaconda3\\lib\\site-packages (from google-api-core<2dev,>=1.21.0->google-api-python-client) (3.17.3)\n",
      "Requirement already satisfied: googleapis-common-protos<2.0dev,>=1.6.0 in c:\\users\\jaylee\\anaconda3\\lib\\site-packages (from google-api-core<2dev,>=1.21.0->google-api-python-client) (1.53.0)\n",
      "Requirement already satisfied: pyasn1-modules>=0.2.1 in c:\\users\\jaylee\\anaconda3\\lib\\site-packages (from google-auth<2dev,>=1.16.0->google-api-python-client) (0.2.8)\n",
      "Requirement already satisfied: rsa<5,>=3.1.4 in c:\\users\\jaylee\\anaconda3\\lib\\site-packages (from google-auth<2dev,>=1.16.0->google-api-python-client) (4.7.2)\n",
      "Requirement already satisfied: cachetools<5.0,>=2.0.0 in c:\\users\\jaylee\\anaconda3\\lib\\site-packages (from google-auth<2dev,>=1.16.0->google-api-python-client) (4.2.2)\n",
      "Requirement already satisfied: pyparsing<3,>=2.4.2 in c:\\users\\jaylee\\anaconda3\\lib\\site-packages (from httplib2<1dev,>=0.15.0->google-api-python-client) (2.4.7)\n",
      "Requirement already satisfied: pyasn1<0.5.0,>=0.4.6 in c:\\users\\jaylee\\anaconda3\\lib\\site-packages (from pyasn1-modules>=0.2.1->google-auth<2dev,>=1.16.0->google-api-python-client) (0.4.8)\n",
      "Requirement already satisfied: certifi>=2017.4.17 in c:\\users\\jaylee\\anaconda3\\lib\\site-packages (from requests<3.0.0dev,>=2.18.0->google-api-core<2dev,>=1.21.0->google-api-python-client) (2020.6.20)\n",
      "Requirement already satisfied: idna<3,>=2.5 in c:\\users\\jaylee\\anaconda3\\lib\\site-packages (from requests<3.0.0dev,>=2.18.0->google-api-core<2dev,>=1.21.0->google-api-python-client) (2.10)\n",
      "Requirement already satisfied: chardet<4,>=3.0.2 in c:\\users\\jaylee\\anaconda3\\lib\\site-packages (from requests<3.0.0dev,>=2.18.0->google-api-core<2dev,>=1.21.0->google-api-python-client) (3.0.4)\n",
      "Requirement already satisfied: urllib3!=1.25.0,!=1.25.1,<1.26,>=1.21.1 in c:\\users\\jaylee\\anaconda3\\lib\\site-packages (from requests<3.0.0dev,>=2.18.0->google-api-core<2dev,>=1.21.0->google-api-python-client) (1.25.11)\n",
      "Requirement already satisfied: google-cloud-vision in c:\\users\\jaylee\\anaconda3\\lib\\site-packages (2.3.2)\n",
      "Requirement already satisfied: proto-plus>=1.15.0 in c:\\users\\jaylee\\anaconda3\\lib\\site-packages (from google-cloud-vision) (1.19.0)\n",
      "Requirement already satisfied: google-api-core[grpc]<2.0.0dev,>=1.22.2 in c:\\users\\jaylee\\anaconda3\\lib\\site-packages (from google-cloud-vision) (1.31.0)\n",
      "Requirement already satisfied: packaging>=14.3 in c:\\users\\jaylee\\anaconda3\\lib\\site-packages (from google-cloud-vision) (20.4)\n",
      "Requirement already satisfied: setuptools>=40.3.0 in c:\\users\\jaylee\\anaconda3\\lib\\site-packages (from google-api-core[grpc]<2.0.0dev,>=1.22.2->google-cloud-vision) (50.3.1.post20201107)\n",
      "Requirement already satisfied: googleapis-common-protos<2.0dev,>=1.6.0 in c:\\users\\jaylee\\anaconda3\\lib\\site-packages (from google-api-core[grpc]<2.0.0dev,>=1.22.2->google-cloud-vision) (1.53.0)\n",
      "Requirement already satisfied: protobuf>=3.12.0 in c:\\users\\jaylee\\anaconda3\\lib\\site-packages (from google-api-core[grpc]<2.0.0dev,>=1.22.2->google-cloud-vision) (3.17.3)\n",
      "Requirement already satisfied: six>=1.13.0 in c:\\users\\jaylee\\anaconda3\\lib\\site-packages (from google-api-core[grpc]<2.0.0dev,>=1.22.2->google-cloud-vision) (1.15.0)\n",
      "Requirement already satisfied: pytz in c:\\users\\jaylee\\anaconda3\\lib\\site-packages (from google-api-core[grpc]<2.0.0dev,>=1.22.2->google-cloud-vision) (2020.1)\n",
      "Requirement already satisfied: requests<3.0.0dev,>=2.18.0 in c:\\users\\jaylee\\anaconda3\\lib\\site-packages (from google-api-core[grpc]<2.0.0dev,>=1.22.2->google-cloud-vision) (2.24.0)\n",
      "Requirement already satisfied: google-auth<2.0dev,>=1.25.0 in c:\\users\\jaylee\\anaconda3\\lib\\site-packages (from google-api-core[grpc]<2.0.0dev,>=1.22.2->google-cloud-vision) (1.32.1)\n",
      "Requirement already satisfied: grpcio<2.0dev,>=1.29.0 in c:\\users\\jaylee\\anaconda3\\lib\\site-packages (from google-api-core[grpc]<2.0.0dev,>=1.22.2->google-cloud-vision) (1.38.1)\n",
      "Requirement already satisfied: cachetools<5.0,>=2.0.0 in c:\\users\\jaylee\\anaconda3\\lib\\site-packages (from google-auth<2.0dev,>=1.25.0->google-api-core[grpc]<2.0.0dev,>=1.22.2->google-cloud-vision) (4.2.2)\n",
      "Requirement already satisfied: pyasn1-modules>=0.2.1 in c:\\users\\jaylee\\anaconda3\\lib\\site-packages (from google-auth<2.0dev,>=1.25.0->google-api-core[grpc]<2.0.0dev,>=1.22.2->google-cloud-vision) (0.2.8)\n",
      "Requirement already satisfied: rsa<5,>=3.1.4 in c:\\users\\jaylee\\anaconda3\\lib\\site-packages (from google-auth<2.0dev,>=1.25.0->google-api-core[grpc]<2.0.0dev,>=1.22.2->google-cloud-vision) (4.7.2)\n",
      "Requirement already satisfied: pyparsing>=2.0.2 in c:\\users\\jaylee\\anaconda3\\lib\\site-packages (from packaging>=14.3->google-cloud-vision) (2.4.7)\n",
      "Requirement already satisfied: pyasn1<0.5.0,>=0.4.6 in c:\\users\\jaylee\\anaconda3\\lib\\site-packages (from pyasn1-modules>=0.2.1->google-auth<2.0dev,>=1.25.0->google-api-core[grpc]<2.0.0dev,>=1.22.2->google-cloud-vision) (0.4.8)\n",
      "Requirement already satisfied: idna<3,>=2.5 in c:\\users\\jaylee\\anaconda3\\lib\\site-packages (from requests<3.0.0dev,>=2.18.0->google-api-core[grpc]<2.0.0dev,>=1.22.2->google-cloud-vision) (2.10)\n",
      "Requirement already satisfied: urllib3!=1.25.0,!=1.25.1,<1.26,>=1.21.1 in c:\\users\\jaylee\\anaconda3\\lib\\site-packages (from requests<3.0.0dev,>=2.18.0->google-api-core[grpc]<2.0.0dev,>=1.22.2->google-cloud-vision) (1.25.11)\n",
      "Requirement already satisfied: certifi>=2017.4.17 in c:\\users\\jaylee\\anaconda3\\lib\\site-packages (from requests<3.0.0dev,>=2.18.0->google-api-core[grpc]<2.0.0dev,>=1.22.2->google-cloud-vision) (2020.6.20)\n",
      "Requirement already satisfied: chardet<4,>=3.0.2 in c:\\users\\jaylee\\anaconda3\\lib\\site-packages (from requests<3.0.0dev,>=2.18.0->google-api-core[grpc]<2.0.0dev,>=1.22.2->google-cloud-vision) (3.0.4)\n"
     ]
    }
   ],
   "source": [
    "!c:\\users\\jaylee\\anaconda3\\python.exe -m pip install --upgrade pip\n",
    "!pip install --upgrade google-api-python-client\n",
    "!pip install --upgrade google-cloud-vision\n",
    "!pip install image"
   ]
  }
 ],
 "metadata": {
  "kernelspec": {
   "display_name": "Python 3",
   "language": "python",
   "name": "python3"
  },
  "language_info": {
   "codemirror_mode": {
    "name": "ipython",
    "version": 3
   },
   "file_extension": ".py",
   "mimetype": "text/x-python",
   "name": "python",
   "nbconvert_exporter": "python",
   "pygments_lexer": "ipython3",
   "version": "3.8.5"
  }
 },
 "nbformat": 4,
 "nbformat_minor": 4
}
