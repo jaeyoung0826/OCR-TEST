{
 "cells": [
  {
   "cell_type": "code",
   "execution_count": 2,
   "metadata": {},
   "outputs": [
    {
     "name": "stdout",
     "output_type": "stream",
     "text": [
      "C:/Users/Administrator/Desktop/image/giftcon.jpg_resized.jpg\n",
      "00\n",
      "\n",
      "[맥도날드] 맥스파이시 상하이버거 세트\n",
      "\n",
      "여월 11일까지\n",
      "\n",
      "5229 8385 5675\n",
      "\n",
      " \n",
      "\f",
      "\n"
     ]
    }
   ],
   "source": [
    "from tkinter import * \n",
    "from tkinter import filedialog    \n",
    "from tkinter import messagebox   \n",
    "from IPython.display import Image\n",
    "import pytesseract\n",
    "import cv2\n",
    "root = Tk()\n",
    "\n",
    "\n",
    "##function\n",
    "\n",
    "\n",
    "def about():\n",
    "    messagebox.showinfo(\"about\",\"파일을 업로드 하시면 해당 이미지의 문자를 찾아보여줍니다!\")\n",
    "\n",
    "def upload():\n",
    "    filename = filedialog.askopenfilename(initialdir=\"/\", title=\"Select file\",\n",
    "                                          filetypes=((\"jpg files\", \"*.jpg\"),\n",
    "                                          (\"all files\", \"*.*\")))\n",
    "    image = cv2.imread(filename, cv2.IMREAD_COLOR)\n",
    "    cv2.imshow(\"result\", image)\n",
    "    cv2.waitKey()\n",
    "    cv2.destroyAllWindows()\n",
    "    \n",
    "    print(filename)\n",
    "    result=pytesseract.image_to_string(filename, lang='kor')\n",
    "    print(result)\n",
    "    \n",
    "## program info\n",
    "root.title (\"OCR TEST\")\n",
    "root.geometry(\"540x380\") \n",
    "\n",
    "##label\n",
    "\n",
    "label1 = Label (root, text= \"원하는 이미지를 업로드 해주세요!\")\n",
    "label1.pack()\n",
    "\n",
    "\n",
    "## button \n",
    "btn1= Button(root,text=\"파일 업로드\",command=upload)\n",
    "\n",
    "btn1.pack(side=\"bottom\",anchor=\"w\")\n",
    "\n",
    "\n",
    "\n",
    "##Manu\n",
    "\n",
    "menubar = Menu(root)  \n",
    "helpmenu = Menu(menubar, tearoff=0)\n",
    "menubar.add_cascade(label=\"Help\", menu=helpmenu)\n",
    "helpmenu.add_command(label=\"About...\", command=about)\n",
    "\n",
    "root.config(menu=menubar)             # 생성된 객체를 위에서 생성된 메뉴바에 연결   \n",
    "\n",
    "\n",
    "##exec\n",
    "root.mainloop()"
   ]
  }
 ],
 "metadata": {
  "kernelspec": {
   "display_name": "Python 3",
   "language": "python",
   "name": "python3"
  },
  "language_info": {
   "codemirror_mode": {
    "name": "ipython",
    "version": 3
   },
   "file_extension": ".py",
   "mimetype": "text/x-python",
   "name": "python",
   "nbconvert_exporter": "python",
   "pygments_lexer": "ipython3",
   "version": "3.8.5"
  }
 },
 "nbformat": 4,
 "nbformat_minor": 4
}
